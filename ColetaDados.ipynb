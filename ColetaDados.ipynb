{
 "cells": [
  {
   "cell_type": "markdown",
   "id": "23ce08d2-a4ca-4f8d-9a52-6dc6936b557c",
   "metadata": {},
   "source": [
    "# Epicollect"
   ]
  },
  {
   "cell_type": "code",
   "execution_count": 57,
   "id": "7e6fb141-748a-4079-9959-fd9941336847",
   "metadata": {},
   "outputs": [],
   "source": [
    "import pandas as pd\n",
    "import requests\n",
    "import json\n",
    "pd.set_option('display.max_columns', None)\n",
    "pd.set_option('display.max_rows', None)\n",
    "requests.packages.urllib3.disable_warnings()"
   ]
  },
  {
   "cell_type": "code",
   "execution_count": 58,
   "id": "390695be-05b8-405e-a3fb-6b0015d1dd95",
   "metadata": {},
   "outputs": [],
   "source": [
    "def gera_token(CLIENT_ID, CLIENT_SECRET):\n",
    "    \"\"\"\n",
    "    Função gera token de acesso ao aplicativo\n",
    "        CLIENT_ID: identificador do cliente\n",
    "        CLIENT_SECRET: chave de acesso do cliente\n",
    "    \"\"\"\n",
    "    url = 'https://five.epicollect.net/api/oauth/token'\n",
    "    dados = {'grant_type': 'client_credentials', 'client_id': CLIENT_ID, 'client_secret': CLIENT_SECRET}\n",
    "    resposta = requests.post(url, data=dados, verify=False)\n",
    "    return resposta.json()"
   ]
  },
  {
   "cell_type": "code",
   "execution_count": 59,
   "id": "09f56e8b-6949-46f8-be4b-45a0ccaaf106",
   "metadata": {},
   "outputs": [],
   "source": [
    "def gera_dataframe(token, SLUG, origem, registros_por_pagina):\n",
    "    \"\"\"\n",
    "    Função para obter registros dos form e branch\n",
    "        token: token de acesso ao aplicativo\n",
    "        SLUG: versão slug do aplicativo\n",
    "        origem: define se será o form ou branch\n",
    "        registros_por_pagina: define o número máximo de registros a serem recuperados por consulta\n",
    "    \"\"\"\n",
    "    df = pd.DataFrame()\n",
    "    url = f\"https://five.epicollect.net/api/export/entries/{SLUG}?map_index=0&{origem}&format=json&headers=true&per_page={registros_por_pagina}\"\n",
    "    registros=(requests.get(url, headers={\"Authorization\": f\"Bearer {token['access_token']}\"}, verify=False)).json()\n",
    "    ultima_pagina = registros['meta']['last_page']\n",
    "    df = pd.concat([df,pd.DataFrame.from_dict(registros['data']['entries'])], axis=0)\n",
    "    if ultima_pagina>1:\n",
    "        for registro in range(2,ultima_pagina+1):\n",
    "            registros=(requests.get(url, headers={\"Authorization\": f\"Bearer {token['access_token']}\"}, verify=False)).json()\n",
    "            df = pd.concat([df,pd.DataFrame.from_dict(registros['data']['entries'])], axis=0)\n",
    "    return df"
   ]
  },
  {
   "cell_type": "code",
   "execution_count": 60,
   "id": "5cc58bd8-8638-41b2-813b-ed2cadd6556a",
   "metadata": {},
   "outputs": [],
   "source": [
    "def dados(propriedades, amostras):\n",
    "    \"\"\"\n",
    "    Função realiza a união dos registros de propriedade e amostras\n",
    "        propriedades: dataframe com informações de propriedades\n",
    "        amostras: dataframe com informações de amostras\n",
    "    \"\"\"\n",
    "    propriedades.set_index('ec5_uuid', inplace=True)\n",
    "    amostras.set_index('ec5_branch_owner_uuid', inplace=True)\n",
    "    return propriedades.join(amostras, how='outer',rsuffix='_amostra')"
   ]
  },
  {
   "cell_type": "markdown",
   "id": "0b1a2a51-0985-4d7b-9f70-b6258053fd4c",
   "metadata": {},
   "source": [
    "## Definição dos parâmetros do projeto\n",
    "Estes parâmetros vêm do epicollect ao clicar na API serão apresentados"
   ]
  },
  {
   "cell_type": "code",
   "execution_count": 61,
   "id": "9d203952-a9a5-41ce-b0ab-d9de039c9d8e",
   "metadata": {},
   "outputs": [],
   "source": [
    "CLIENT_ID = \n",
    "CLIENT_SECRET = ''\n",
    "NAME = ''\n",
    "SLUG = ''\n",
    "form_ref=''\n",
    "branch_ref=''\n",
    "registros_por_pagina = 1000 #Máximo que epicollect permite\n",
    "\n",
    "# Dados dos arquivos de saída\n",
    "nome_arquivo_geral = 'dados_epicollect.xlsx'\n",
    "nome_arquivo_propriedades = 'propriedades.xlsx'\n",
    "nome_arquivo_amostras = 'amostras.xlsx'"
   ]
  },
  {
   "cell_type": "markdown",
   "id": "c1311b35-1f14-44b6-bb7c-dd6b03898a7f",
   "metadata": {},
   "source": [
    "Não foi possível utilizar o pacote pyepicollect. Existe um proxy e a utilização do pacote gera um erro ralacionado ao certificado. Optou-se por escrever o código do zero.\n",
    "\n",
    "## Obtendo um token de acesso (válido por duas horas)"
   ]
  },
  {
   "cell_type": "code",
   "execution_count": 62,
   "id": "fba24a8d-9bd3-42ba-b150-ad4d1e7b1523",
   "metadata": {},
   "outputs": [],
   "source": [
    "token = gera_token(CLIENT_ID, CLIENT_SECRET)"
   ]
  },
  {
   "cell_type": "markdown",
   "id": "993bfed1-6c87-40de-bfc7-d900081725f6",
   "metadata": {},
   "source": [
    "## Obtendo dados do formulário principal e gerando colunas com coordenadas"
   ]
  },
  {
   "cell_type": "code",
   "execution_count": 63,
   "id": "c55628ba-c544-48c9-acf0-d8e3f3b9c7f6",
   "metadata": {},
   "outputs": [],
   "source": [
    "origem = f'form_ref={form_ref}'\n",
    "propriedades = gera_dataframe(token, SLUG, origem, registros_por_pagina)\n",
    "propriedades['latitude'] = propriedades['12_Geolocalizao'].apply(lambda x: x['latitude'])\n",
    "propriedades['longitude'] = propriedades['12_Geolocalizao'].apply(lambda x: x['longitude'])\n",
    "propriedades['8_Quais_espcies_pres'] = propriedades['8_Quais_espcies_pres'].apply(lambda x: ', '.join(x))\n",
    "propriedades['20_Risco_atribudo_ao'] = propriedades['20_Risco_atribudo_ao'].apply(lambda x: ', '.join(x))\n",
    "propriedades.drop('12_Geolocalizao', axis=1, inplace=True)"
   ]
  },
  {
   "cell_type": "markdown",
   "id": "6de57efe-803f-413f-a4dd-a54e45d45688",
   "metadata": {},
   "source": [
    "## Obtendo dados do formulário acessório"
   ]
  },
  {
   "cell_type": "code",
   "execution_count": 64,
   "id": "31e19dfe-2dd9-4dc1-864f-803fecef80eb",
   "metadata": {},
   "outputs": [],
   "source": [
    "origem = f'branch_ref={branch_ref}'\n",
    "amostras = gera_dataframe(token, SLUG, origem, registros_por_pagina)"
   ]
  },
  {
   "cell_type": "markdown",
   "id": "5fcf84dd-9d2d-4ebf-9d0b-7b42004f7837",
   "metadata": {},
   "source": [
    "## Grava planilha excel"
   ]
  },
  {
   "cell_type": "code",
   "execution_count": 65,
   "id": "7591fb0c-c24c-4977-ab5b-3ee58b159971",
   "metadata": {},
   "outputs": [],
   "source": [
    "planilha = dados(propriedades,amostras)"
   ]
  },
  {
   "cell_type": "code",
   "execution_count": 66,
   "id": "8609cc10-301e-4c65-b04f-b6d492fd85f4",
   "metadata": {
    "scrolled": true
   },
   "outputs": [],
   "source": [
    "propriedades.to_excel(nome_arquivo_propriedades)\n",
    "amostras.to_excel(nome_arquivo_amostras)\n",
    "planilha.to_excel(nome_arquivo_geral)"
   ]
  },
  {
   "cell_type": "markdown",
   "id": "579d36a1-2871-4170-b608-c47d0c27327d",
   "metadata": {},
   "source": [
    "## Exporta como Geopackage"
   ]
  },
  {
   "cell_type": "code",
   "execution_count": 67,
   "id": "137851d6-cc59-4127-9733-88ac3550d936",
   "metadata": {},
   "outputs": [],
   "source": [
    "import geopandas as gpd"
   ]
  },
  {
   "cell_type": "code",
   "execution_count": 68,
   "id": "4501cfb5-cdd3-4f51-8a8f-7259eb7ca7f3",
   "metadata": {},
   "outputs": [],
   "source": [
    "gdf = gpd.GeoDataFrame(propriedades, geometry=gpd.points_from_xy(propriedades.longitude, propriedades.latitude), crs=\"EPSG:4326\")"
   ]
  },
  {
   "cell_type": "code",
   "execution_count": 69,
   "id": "c87c979e-3bd7-4f09-b51b-28b9209dc073",
   "metadata": {},
   "outputs": [],
   "source": [
    "gdf.to_file('propriedades.gpkg', driver='GPKG', layer='Propriedades')"
   ]
  },
  {
   "cell_type": "code",
   "execution_count": null,
   "id": "6382d40c-9ba6-47a7-8c3e-acf6c343021c",
   "metadata": {},
   "outputs": [],
   "source": []
  }
 ],
 "metadata": {
  "kernelspec": {
   "display_name": "Epicollect",
   "language": "python",
   "name": "epicollect"
  },
  "language_info": {
   "codemirror_mode": {
    "name": "ipython",
    "version": 3
   },
   "file_extension": ".py",
   "mimetype": "text/x-python",
   "name": "python",
   "nbconvert_exporter": "python",
   "pygments_lexer": "ipython3",
   "version": "3.11.6"
  }
 },
 "nbformat": 4,
 "nbformat_minor": 5
}
